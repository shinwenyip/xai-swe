{
 "cells": [
  {
   "cell_type": "code",
   "execution_count": 1,
   "metadata": {},
   "outputs": [
    {
     "name": "stderr",
     "output_type": "stream",
     "text": [
      "/anaconda/envs/xaienv/lib/python3.9/site-packages/statsmodels/compat/pandas.py:61: FutureWarning: pandas.Int64Index is deprecated and will be removed from pandas in a future version. Use pandas.Index with the appropriate dtype instead.\n",
      "  from pandas import Int64Index as NumericIndex\n"
     ]
    }
   ],
   "source": [
    "import os\n",
    "from project import Project \n",
    "from functions import *"
   ]
  },
  {
   "cell_type": "code",
   "execution_count": 3,
   "metadata": {},
   "outputs": [],
   "source": [
    "\n",
    "ant_project = Project('ANT')\n",
    "ant_project.set_train_test()\n",
    "ant_project.prepare_data()\n",
    "# Train model for ANT \n",
    "ant_project.train_global_model('SVM')\n",
    "global_model = ant_project.models['SVM']\n",
    "\n",
    "X_test = ant_project.X_test\n",
    "y_test = ant_project.y_test\n",
    "X_train = ant_project.X_train_rs\n",
    "y_train = ant_project.y_train_rs\n",
    "project_name = ant_project.name\n",
    "# TODO change to not resampled data"
   ]
  },
  {
   "cell_type": "code",
   "execution_count": 4,
   "metadata": {},
   "outputs": [],
   "source": [
    "limeExp,lime_explanations = get_explanations(project_name, 'lime','SVM',X_train,y_train,global_model )"
   ]
  },
  {
   "cell_type": "code",
   "execution_count": 5,
   "metadata": {},
   "outputs": [],
   "source": [
    "pyExp,pyexplanations = get_explanations(project_name, 'pyExp','SVM',X_train,y_train,global_model )"
   ]
  },
  {
   "cell_type": "code",
   "execution_count": 6,
   "metadata": {},
   "outputs": [
    {
     "name": "stderr",
     "output_type": "stream",
     "text": [
      "X does not have valid feature names, but SVC was fitted with feature names\n",
      "Using 518 background data samples could cause slower run times. Consider using shap.sample(data, K) or shap.kmeans(data, K) to summarize the background as K samples.\n"
     ]
    }
   ],
   "source": [
    "shapExp,shap_explanations = get_explanations(project_name, 'shap','SVM',X_train,y_train,global_model )"
   ]
  },
  {
   "cell_type": "code",
   "execution_count": null,
   "metadata": {},
   "outputs": [],
   "source": []
  }
 ],
 "metadata": {
  "interpreter": {
   "hash": "26f1fe3025b539b178f8732115313bf1c22ba2c2807664d485c3facdfdc646e2"
  },
  "kernelspec": {
   "display_name": "Python 3.9.7 ('xaienv')",
   "language": "python",
   "name": "python3"
  },
  "language_info": {
   "codemirror_mode": {
    "name": "ipython",
    "version": 3
   },
   "file_extension": ".py",
   "mimetype": "text/x-python",
   "name": "python",
   "nbconvert_exporter": "python",
   "pygments_lexer": "ipython3",
   "version": "3.9.7"
  },
  "orig_nbformat": 4
 },
 "nbformat": 4,
 "nbformat_minor": 2
}
