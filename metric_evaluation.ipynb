{
 "cells": [
  {
   "cell_type": "code",
   "execution_count": 1,
   "metadata": {},
   "outputs": [],
   "source": [
    "import os\n",
    "import pandas as pd\n",
    "import numpy as np\n",
    "from eval_functions import *\n",
    "\n",
    "project_name = \"ANT\"\n",
    "train_data, test_data = get_datasets(project_name)\n",
    "save_dir = os.path.join('./explainer/',project_name)\n",
    "\n",
    "X_train, X_test, y_train, y_test = get_train_test(project_name)"
   ]
  },
  {
   "cell_type": "code",
   "execution_count": 2,
   "metadata": {},
   "outputs": [
    {
     "name": "stdout",
     "output_type": "stream",
     "text": [
      "Learning CNF rule with complexity parameters lambda0=0.001, lambda1=0.001\n",
      "Initial LP solved\n",
      "Iteration: 1, Objective: 0.2058\n",
      "Iteration: 2, Objective: 0.1862\n",
      "Iteration: 3, Objective: 0.1702\n",
      "Iteration: 4, Objective: 0.1566\n",
      "Iteration: 5, Objective: 0.1406\n",
      "Iteration: 6, Objective: 0.1340\n",
      "Iteration: 7, Objective: 0.1326\n",
      "Iteration: 8, Objective: 0.1308\n",
      "Iteration: 9, Objective: 0.1159\n",
      "Iteration: 10, Objective: 0.1094\n",
      "Iteration: 11, Objective: 0.1076\n",
      "Iteration: 12, Objective: 0.1068\n",
      "Iteration: 13, Objective: 0.1068\n",
      "Iteration: 14, Objective: 0.1065\n",
      "Iteration: 15, Objective: 0.1055\n",
      "Iteration: 16, Objective: 0.1051\n",
      "Iteration: 17, Objective: 0.1050\n",
      "Iteration: 18, Objective: 0.1047\n",
      "Iteration: 19, Objective: 0.1047\n"
     ]
    }
   ],
   "source": [
    "import warnings\n",
    "warnings.filterwarnings('ignore')\n",
    "\n",
    "# Train and save model\n",
    "global_model= train_global_model(project_name,'SVM', X_train, y_train) #Model object\n",
    "global_model_LR = train_global_model(project_name,'LR', X_train, y_train)\n",
    "global_model_BRCG = train_global_model(project_name,'BRCG', X_train, y_train)\n",
    "global_model_LRR = train_global_model(project_name,'LogRR', X_train, y_train)"
   ]
  },
  {
   "cell_type": "code",
   "execution_count": 3,
   "metadata": {},
   "outputs": [
    {
     "name": "stdout",
     "output_type": "stream",
     "text": [
      "cnf\n"
     ]
    }
   ],
   "source": [
    "\n",
    "pred_SVM, defect_prob_SVM = global_model.predict()\n",
    "pred_LR, defect_prob_LR = global_model_LR.predict()\n",
    "pred_BRCG, defect_prob_BRCG = global_model_BRCG.predict()\n",
    "pred_LRR, defect_prob_LRR = global_model_LRR.predict()\n"
   ]
  },
  {
   "cell_type": "code",
   "execution_count": null,
   "metadata": {},
   "outputs": [],
   "source": [
    "#Evaluate model performance\n",
    "global_model.evaluate_performance()\n",
    "global_model_LR.evaluate_performance()\n",
    "global_model_BRCG.evaluate_performance()\n",
    "global_model_LRR.evaluate_performance()"
   ]
  },
  {
   "cell_type": "code",
   "execution_count": null,
   "metadata": {},
   "outputs": [],
   "source": [
    "feat = global_model_LRR.X_train\n",
    "std_feat = global_model_LRR.X_trainStd\n",
    "# print(std_feat)"
   ]
  },
  {
   "cell_type": "code",
   "execution_count": null,
   "metadata": {},
   "outputs": [],
   "source": [
    "print(global_model_LR.X_train)"
   ]
  },
  {
   "cell_type": "code",
   "execution_count": 10,
   "metadata": {},
   "outputs": [
    {
     "name": "stdout",
     "output_type": "stream",
     "text": [
      "5\n",
      "{'isCNF': True, 'rules': ['loc <= 23.70', 'wmc > 5.00 AND loc <= 169.00', 'mfa <= 0.00 AND cam > 0.50', 'lcom > 4.00 AND dam <= 0.00', 'dit > 1.00 AND ce <= 7.00 AND loc <= 355.40']}\n"
     ]
    }
   ],
   "source": [
    "# BR explaination\n",
    "exp_BRCG = global_model_BRCG.model.explain(maxConj=5)\n",
    "print(len(exp_BRCG['rules']))\n",
    "print(exp_BRCG)"
   ]
  },
  {
   "cell_type": "code",
   "execution_count": 8,
   "metadata": {},
   "outputs": [],
   "source": [
    "exp_LRR = global_model_LRR.model.explain()\n",
    "exp_LRRh = global_model_LRR.model.explain(highDegOnly=True)\n",
    "# print(exp_LRRh)\n",
    "# Separate 1st-degree rules into (feature, operation, value) to count unique features\n",
    "dfx2 = exp_LRR['rule/numerical feature']\n",
    "highOrd = exp_LRRh['rule']\n",
    "dfx2 = dfx2[~dfx2.isin(highOrd)].str.split(' ', expand=True)\n",
    "dfx2.columns = ['feature','operation','value']\n",
    "dfx2['feature'].nunique() # includes intercept\n",
    "uniq = dfx2['feature'].unique()"
   ]
  },
  {
   "cell_type": "code",
   "execution_count": 9,
   "metadata": {},
   "outputs": [
    {
     "data": {
      "text/plain": [
       "({'dit': <Figure size 432x288 with 1 Axes>},\n",
       " dit    2.899135\n",
       " dtype: float64)"
      ]
     },
     "execution_count": 9,
     "metadata": {},
     "output_type": "execute_result"
    },
    {
     "data": {
      "image/png": "[encoded data removed]",
      "text/plain": [
       "<Figure size 432x288 with 1 Axes>"
      ]
     },
     "metadata": {
      "needs_background": "light"
     },
     "output_type": "display_data"
    },
    {
     "data": {
      "image/png": "[encoded data removed]",
      "text/plain": [
       "<Figure size 432x288 with 1 Axes>"
      ]
     },
     "metadata": {
      "needs_background": "light"
     },
     "output_type": "display_data"
    },
    {
     "data": {
      "image/png": "[encoded data removed]",
      "text/plain": [
       "<Figure size 432x288 with 1 Axes>"
      ]
     },
     "metadata": {
      "needs_background": "light"
     },
     "output_type": "display_data"
    }
   ],
   "source": [
    "data = pd.concat([train_data,test_data])\n",
    "global_model_LRR.model.visualize(data,global_model_LRR.fb,['mfa'])\n",
    "global_model_LRR.model.visualize(data,global_model_LRR.fb,['amc'])\n",
    "global_model_LRR.model.visualize(data,global_model_LRR.fb,['dit'])"
   ]
  },
  {
   "cell_type": "code",
   "execution_count": 12,
   "metadata": {},
   "outputs": [
    {
     "name": "stdout",
     "output_type": "stream",
     "text": [
      "feature         wmc                                                    \\\n",
      "operation        <=                                                     \n",
      "value     2.700000  4.000000  5.000000  7.000000  9.000000  11.200000   \n",
      "0                 0         1         1         1         1         1   \n",
      "1                 0         1         1         1         1         1   \n",
      "2                 0         0         0         0         0         1   \n",
      "3                 0         0         0         0         0         0   \n",
      "4                 0         0         0         0         0         0   \n",
      "\n",
      "feature                                            ...    avg_cc            \\\n",
      "operation                                       >  ...        <=         >   \n",
      "value     16.000000 20.000000 30.000000 2.700000   ... 2.576440  0.666700    \n",
      "0                 1         1         1         1  ...         1         0   \n",
      "1                 1         1         1         1  ...         1         1   \n",
      "2                 1         1         1         1  ...         1         1   \n",
      "3                 0         0         1         1  ...         1         1   \n",
      "4                 1         1         1         1  ...         1         1   \n",
      "\n",
      "feature                                                                \\\n",
      "operation                                                               \n",
      "value     0.833300  1.000000  1.138755  1.390100  1.547978  1.787437    \n",
      "0                 0         0         0         0         0         0   \n",
      "1                 1         1         1         1         1         0   \n",
      "2                 1         1         0         0         0         0   \n",
      "3                 1         1         1         1         1         0   \n",
      "4                 1         1         1         0         0         0   \n",
      "\n",
      "feature                        \n",
      "operation                      \n",
      "value     2.014149  2.576440   \n",
      "0                 0         0  \n",
      "1                 0         0  \n",
      "2                 0         0  \n",
      "3                 0         0  \n",
      "4                 0         0  \n",
      "\n",
      "[5 rows x 288 columns]\n"
     ]
    }
   ],
   "source": [
    "standardised = global_model_LRR.X_trainStd\n",
    "binarised = global_model_LRR.X_train\n",
    "print(binarised.head(n=5))"
   ]
  },
  {
   "cell_type": "code",
   "execution_count": null,
   "metadata": {},
   "outputs": [],
   "source": [
    "pred_df = X_test.copy()\n",
    "pred_df['pred'] = pred\n",
    "pred_df['defect'] = y_test\n",
    "pred_df['defect_prob'] = defect_prob\n",
    "\n",
    "correctly_predicted_df = pred_df[(pred_df['pred']==1) & (pred_df['defect']==1)]\n",
    "feature_df = correctly_predicted_df.loc[:,correctly_predicted_df.columns[: -3]]\n",
    "\n"
   ]
  },
  {
   "cell_type": "code",
   "execution_count": null,
   "metadata": {},
   "outputs": [],
   "source": [
    "import pickle\n",
    "from pyexplainer.pyexplainer_pyexplainer import *\n",
    "from lime.lime.lime_tabular import LimeTabularExplainer\n",
    "from sklearn.metrics.pairwise import cosine_similarity, euclidean_distances\n",
    "\n",
    "explanations = [] #list of explanations\n",
    "features = X_test.columns\n",
    "dep = 'defect'\n",
    "class_label = ['clean','defect']\n",
    "test_label = y_test.loc[correctly_predicted_df.index]\n",
    "\n",
    "pyExp = PyExplainer(X_train, y_train, features, dep, global_model, class_label)\n",
    "limeExp = LimeTabularExplainer(X_train.values, \n",
    "                                      feature_names=features, class_names=class_label, \n",
    "                                      random_state=0)\n",
    "results = pd.DataFrame()\n",
    "\n",
    "# generate explanation for each data row\n",
    "for i in range(0,len(feature_df)):\n",
    "# for i in range(0,3):\n",
    "    X_explain = feature_df.iloc[[i]] #that data row\n",
    "    y_explain = test_label.iloc[[i]]\n",
    "    row_index = str(X_explain.index[0]) #name of instance\n",
    "\n",
    "    pyExplanation = pyExp.explain(X_explain,\n",
    "                                   y_explain,\n",
    "                                   search_function = 'CrossoverInterpolation')\n",
    "\n",
    "\n",
    "    pyExplanation['name'] = row_index\n",
    "    pyExplanation['local_model'] = pyExplanation['local_rulefit_model']\n",
    "    del pyExplanation['local_rulefit_model']\n",
    "    # X_explain = feature_df.iloc[i]\n",
    "    exp, synt_inst, synt_inst_for_local_model, selected_feature_indices, local_model = limeExp.explain_instance(feature_df.iloc[i], global_model.predict_proba, num_samples=2110)\n",
    "    \n",
    "    limeExplanation = {}\n",
    "    limeExplanation['rule'] = exp\n",
    "    limeExplanation['synthetic_instance_for_global_model'] = synt_inst\n",
    "    limeExplanation['synthetic_instance_for_local_model'] = synt_inst_for_local_model #10 most important features binary rep\n",
    "    limeExplanation['local_model'] = local_model\n",
    "    limeExplanation['selected_feature_indices'] = selected_feature_indices #10 most important feature indexes\n",
    "    limeExplanation['name'] = row_index\n",
    " \n",
    "    all_explainer = {'pyExplainer':pyExplanation, 'LIME': limeExplanation}\n",
    "    explanations.append(all_explainer)\n",
    "\n",
    "    #calculate euclidean distance between X_explain and synthetic data\n",
    "    py_euc = euclidean_distances(X_explain.values,pyExplanation['synthetic_data'].values)\n",
    "    lime_euc = euclidean_distances(X_explain.values,limeExplanation['synthetic_instance_for_global_model'])\n",
    "    #calculate median \n",
    "    py_euc_med = np.median(py_euc)\n",
    "    lime_euc_med = np.median(lime_euc)\n",
    "\n",
    "    pyExp_series = pd.Series(data=[project_name,row_index,'pyExplainer',py_euc_med])\n",
    "    limeExp_series = pd.Series(data=[project_name,row_index,'LIME',lime_euc_med])\n",
    "    results = results.append(pyExp_series, ignore_index=True)\n",
    "    results = results.append(limeExp_series, ignore_index=True)\n",
    "\n",
    "    # print(py_euc_med)\n",
    "    # print(lime_euc_med)\n",
    "    # print(X_explain.values)\n",
    "\n",
    "results.columns = ['project','name', 'method', 'euc_dist_med']\n",
    "results.to_csv('./eval_results/'+'rq1_'+ project_name+'_'+'SVM'+'.csv',index=False)\n",
    "pickle.dump(explanations,open(save_dir + '/SVM' +'/explainers_'+row_index+'.pkl','wb'))"
   ]
  },
  {
   "cell_type": "markdown",
   "metadata": {},
   "source": [
    "RQ1: Similarity of synthetic neighbours to instance being explained"
   ]
  },
  {
   "cell_type": "code",
   "execution_count": null,
   "metadata": {},
   "outputs": [],
   "source": [
    "rq1_results()"
   ]
  },
  {
   "cell_type": "markdown",
   "metadata": {},
   "source": [
    "RQ2: Accuracy of local model"
   ]
  },
  {
   "cell_type": "code",
   "execution_count": null,
   "metadata": {},
   "outputs": [],
   "source": [
    "#true labels and predictions for score calculation\n",
    "explanations = pickle.load(open(os.path.join(save_dir,'explainers_'+row_index+'.pkl'),'rb'))\n",
    "pyexp_label, pyexp_prob = [],[]\n",
    "lime_label, lime_prob = [],[]\n",
    "rq2_results = pd.DataFrame()\n",
    "# for each datarow, get explanation objs and evaluate local model accuracy\n",
    "for i in range(0,len(feature_df)):\n",
    "# for i in range(0,3):\n",
    "    X_explain = feature_df.iloc[[i]]\n",
    "    row_index = str(X_explain.index[0])\n",
    "    pyExplanation = explanations[i]['pyExplainer']\n",
    "    limeExplanation = explanations[i]['LIME']\n",
    "\n",
    "    pyExp_synthetic_data = pyExplanation['synthetic_data'].values \n",
    "    limeExp_synthetic_data = limeExplanation['synthetic_instance_for_global_model']\n",
    "    limeExp_synthetic_data_local = limeExplanation['synthetic_instance_for_local_model']\n",
    "\n",
    "    pyExp_local_model = pyExplanation['local_model']\n",
    "    limeExp_local_model = limeExplanation['local_model']\n",
    "\n",
    "    pyExp_global_pred = global_model.predict(pyExp_synthetic_data)\n",
    "    pyExp_local_prob = pyExp_local_model.predict_proba(pyExp_synthetic_data)[:,1] #probability of being in class 1\n",
    "    pyExp_local_pred = pyExp_local_model.predict(pyExp_synthetic_data)\n",
    "\n",
    "    limeExp_global_pred = global_model.predict(limeExp_synthetic_data)\n",
    "    limeExp_local_prob = limeExp_local_model.predict(limeExp_synthetic_data_local)\n",
    "    limeExp_local_pred = np.round(limeExp_local_prob)\n",
    "\n",
    "    pyexp_label.extend(list(pyExp_global_pred))\n",
    "    pyexp_prob.extend(list(pyExp_local_prob))\n",
    "    \n",
    "    lime_label.extend(list(limeExp_global_pred))\n",
    "    lime_prob.extend(list(limeExp_local_prob))\n",
    "\n",
    "    pyExp_auc = metrics.roc_auc_score(pyExp_global_pred,pyExp_local_prob)\n",
    "    pyExp_f1 = metrics.f1_score(pyExp_global_pred, pyExp_local_pred)\n",
    "    \n",
    "    lime_auc = metrics.roc_auc_score(limeExp_global_pred, limeExp_local_prob)\n",
    "    lime_f1 = metrics.f1_score(limeExp_global_pred, limeExp_local_pred)\n",
    "\n",
    "    pyExp_series = pd.Series(data=[project_name,row_index,'pyExplainer',pyExp_auc,pyExp_f1])\n",
    "    limeExp_series = pd.Series(data=[project_name,row_index,'LIME',lime_auc,lime_f1])\n",
    "\n",
    "    rq2_results = rq2_results.append(pyExp_series,ignore_index=True)\n",
    "    rq2_results = rq2_results.append(limeExp_series,ignore_index=True)\n",
    "\n",
    "rq2_results.columns = ['project','name','method','AUC','F1']\n",
    "rq2_results.to_csv('./eval_results/'+'rq2_'+project_name+'_'+'SVM'+'_global_vs_local_synt_pred.csv',index=False)\n",
    "\n",
    "pred_df= pd.DataFrame()\n",
    "pred_df['technique'] = ['pyExplainer']*len(pyexp_label) + ['LIME']*len(lime_label)\n",
    "pred_df['label'] = pyexp_label+lime_label\n",
    "pred_df['prob'] = pyexp_prob+lime_prob\n",
    "pred_df['project'] = project_name\n",
    "\n",
    "pred_df.to_csv('./eval_results/'+'rq2_'+project_name+'_'+'SVM'+'_probability_distribution.csv',index=False)"
   ]
  },
  {
   "cell_type": "code",
   "execution_count": null,
   "metadata": {},
   "outputs": [],
   "source": [
    "rq2_result()"
   ]
  },
  {
   "cell_type": "markdown",
   "metadata": {},
   "source": [
    "RQ2: Probability Distribution"
   ]
  },
  {
   "cell_type": "code",
   "execution_count": null,
   "metadata": {},
   "outputs": [],
   "source": [
    "from eval_functions import *\n",
    "rq2_probability_distribution()"
   ]
  },
  {
   "cell_type": "markdown",
   "metadata": {},
   "source": [
    "RQ3: Uniqueness of Explanations"
   ]
  },
  {
   "cell_type": "code",
   "execution_count": null,
   "metadata": {},
   "outputs": [],
   "source": [
    "def eval_rule(rule, x_df):\n",
    "    \"\"\"Returns list of boolean values that reflects if feature values in x_df matches the rule\"\"\"\n",
    "    var_in_rule = list(set(re.findall('[a-zA-Z_]+', rule))) #list of features in the rule\n",
    "    \n",
    "    rule = re.sub(r'\\b=\\b','==',rule)\n",
    "    if 'or' in var_in_rule:\n",
    "        var_in_rule.remove('or')\n",
    "        \n",
    "    rule = rule.replace('&','and')\n",
    "    eval_result_list = []\n",
    "\n",
    "    # print(var_in_rule)\n",
    "    # print('-----------------------------------')\n",
    "    for i in range(0,len(x_df)):\n",
    "        x = x_df.iloc[[i]]\n",
    "        col = x.columns\n",
    "        var_dict = {}\n",
    "\n",
    "        for var in var_in_rule:\n",
    "            # print(var)\n",
    "            # print(float(x[var]))\n",
    "            var_dict[var] = float(x[var])\n",
    "            # print(var_dict[var])\n",
    "        \n",
    "        eval_result = eval(rule,var_dict)\n",
    "        eval_result_list.append(eval_result)\n",
    "\n",
    "        \n",
    "    return eval_result_list\n",
    "    \n",
    "def get_rule_str_of_rulefit(local_model, X_explain):\n",
    "    rules = local_model.get_rules()\n",
    "    rules = rules[(rules['type']=='rule') & (rules['coef'] > 0) & (rules['importance'] > 0)]\n",
    "    rules_list = list(rules['rule'])\n",
    "    \n",
    "    rule_eval_result = []\n",
    "    \n",
    "    for r in rules_list:\n",
    "        py_exp_pred = eval_rule(r, X_explain)[0]\n",
    "        rule_eval_result.append(py_exp_pred)\n",
    "          \n",
    "    rules['is_satisfy_instance'] = rule_eval_result\n",
    "\n",
    "    rules = rules[rules['is_satisfy_instance']==True]\n",
    "\n",
    "    rules = rules.sort_values(by='importance', ascending=False)\n",
    "    \n",
    "    rule_str = rules.iloc[0]['rule'] #most important rule that is satisfied by instance\n",
    "    \n",
    "    return rule_str"
   ]
  },
  {
   "cell_type": "code",
   "execution_count": null,
   "metadata": {},
   "outputs": [],
   "source": [
    "# explanations = pickle.load(open(os.path.join(save_dir,'explainers_'+row_index+'.pkl'),'rb'))\n",
    "rq3_result = pd.DataFrame()\n",
    "for i in range(0,len(feature_df)):\n",
    "# for i in range(0,3):\n",
    "    X_explain = feature_df.iloc[[i]]\n",
    "    row_index = str(X_explain.index[0])\n",
    "    pyExplanation = explanations[i]['pyExplainer']\n",
    "    limeExplanation = explanations[i]['LIME']\n",
    "\n",
    "    pyExp_local_model = pyExplanation['local_model']\n",
    "    limeExp_local_model = limeExplanation['local_model']\n",
    "    \n",
    "    \n",
    "    # generate explanations \n",
    "    py_exp_the_best_defective_rule_str = get_rule_str_of_rulefit(pyExp_local_model, X_explain)\n",
    "    lime_the_best_defective_rule_str = limeExplanation['rule'].as_list()[0][0]\n",
    "\n",
    "    # pyexp - eval rule(condition) for each condition in rule string\n",
    "    condition_list = py_exp_the_best_defective_rule_str.split('&')\n",
    "\n",
    "    for cond in condition_list:\n",
    "        cond = cond.strip()\n",
    "        pyExp_rule_eval = eval_rule(cond, X_test)\n",
    "        pyExp_rule_eval = np.array(pyExp_rule_eval).astype(bool)\n",
    "\n",
    "        rule_recall = metrics.recall_score(y_test,pyExp_rule_eval) #% of actual positives predicted correctly\n",
    "\n",
    "        pyExp_series_test = pd.Series(data=[project_name,row_index,'pyExplainer','SVM', cond, rule_recall])\n",
    "        rq3_result = rq3_result.append(pyExp_series_test,ignore_index=True)\n",
    "\n",
    "    lime_rule_eval = eval_rule(lime_the_best_defective_rule_str,X_test)\n",
    "    lime_rule_eval = np.array(lime_rule_eval).astype(bool)\n",
    "    rule_recall = metrics.recall_score(y_test,lime_rule_eval)\n",
    "\n",
    "    lime_series_test = pd.Series(data=[project_name,row_index,'LIME','SVM', lime_the_best_defective_rule_str, rule_recall])\n",
    "    rq3_result = rq3_result.append(lime_series_test,ignore_index=True)\n",
    "\n",
    "rq3_result.columns = ['project','commit_id','method','global_model','explanation','recall']\n",
    "rq3_result.to_csv('./eval_results/'+'rq3_'+ project_name+'_'+'SVM'+'_eval_rulesplit_recall.csv', index=False)\n",
    "\n",
    "\n",
    "# print(rq3_result)\n",
    "    # print(py_exp_the_best_defective_rule_str)\n",
    "    # print(lime_the_best_defective_rule_str)\n"
   ]
  },
  {
   "cell_type": "code",
   "execution_count": null,
   "metadata": {},
   "outputs": [],
   "source": [
    "rq3_results()"
   ]
  },
  {
   "cell_type": "code",
   "execution_count": null,
   "metadata": {},
   "outputs": [],
   "source": [
    "# pyexp1 = explanations[0]['pyExplainer']\n",
    "# limeExp1 = explanations[0]['LIME']\n",
    "# print(pyexp1['X_explain'].values)\n",
    "# print(limeExp1['synthetic_instance_for_global_model'].shape)\n",
    "# print(limeExp1['synthetic_instance_for_local_model'].shape)\n",
    "# print(pyexp1['synthetic_data'].shape)\n",
    "# print(limeExp1['selected_feature_indices'])\n",
    "# print(limeExp1['synthetic_instance_for_global_model'][1])\n",
    "# print(limeExp1['synthetic_instance_for_global_model'][2])\n",
    "# print(limeExp1['synthetic_instance_for_global_model'][1])\n",
    "# print(limeExp1['synthetic_instance_for_local_model'][1])\n",
    "# print(limeExp1['synthetic_instance_for_local_model'])\n",
    "# print(pyexp1['synthetic_data'].values[0])\n",
    "\n"
   ]
  },
  {
   "cell_type": "code",
   "execution_count": null,
   "metadata": {},
   "outputs": [],
   "source": [
    "# pyexp1['synthetic_data'].values[2]\n",
    "# print(pyexp1['synthetic_data'].iloc[[2]])\n"
   ]
  },
  {
   "cell_type": "code",
   "execution_count": null,
   "metadata": {},
   "outputs": [],
   "source": [
    "# print(limeExp1['synthetic_instance_for_global_model'][0])\n"
   ]
  },
  {
   "cell_type": "code",
   "execution_count": null,
   "metadata": {},
   "outputs": [],
   "source": []
  }
 ],
 "metadata": {
  "interpreter": {
   "hash": "9688a0387bae57b35348cc4c3ad3ed20d1167bb04f903ea0707e9ddc53486111"
  },
  "kernelspec": {
   "display_name": "Python 3.9.7 64-bit ('PyExplainer': conda)",
   "language": "python",
   "name": "python3"
  },
  "language_info": {
   "codemirror_mode": {
    "name": "ipython",
    "version": 3
   },
   "file_extension": ".py",
   "mimetype": "text/x-python",
   "name": "python",
   "nbconvert_exporter": "python",
   "pygments_lexer": "ipython3",
   "version": "3.9.7"
  },
  "orig_nbformat": 4
 },
 "nbformat": 4,
 "nbformat_minor": 2
}
